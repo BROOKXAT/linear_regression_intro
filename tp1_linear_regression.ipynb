{
 "cells": [
  {
   "attachments": {},
   "cell_type": "markdown",
   "metadata": {},
   "source": [
    "# Linear Regression introduction\n",
    "\n",
    "\n",
    "---\n"
   ]
  },
  {
   "attachments": {},
   "cell_type": "markdown",
   "metadata": {},
   "source": [
    "# Objectifs\n",
    "Pour ce TP nous allons apprendre à écrire notre premier modèle : une régression\n",
    "linéaire. Nous allons l’expérimenter sur un problème jouet afin de suivre pas à pas\n",
    "la construction et l’évaluation de notre modèle.<br/>\n",
    "Dans le cas d’une régression linéraire on suppose qu’il existe une relation linéaire\n",
    "entre les données d’entrées et les valeurs à prédire.<br/>\n",
    "Ce tp est insipré des travaux de Gavin Hackeling dans le livre Mastering machine\n",
    "learning with scikit-learn.<br/>\n",
    "Il s’agit de prédire la relation entre le prix d’une pizza et sa taille. Comme spécifié\n",
    "précédemment, et comme nous avons choisi une régression linéaire, celà signifie que\n",
    "nous faisons l’hypothèse qu’il existe une relation linaire entre le prix d’une pizza et sa\n",
    "taille."
   ]
  },
  {
   "attachments": {},
   "cell_type": "markdown",
   "metadata": {},
   "source": [
    "# Import des librairies"
   ]
  },
  {
   "cell_type": "code",
   "execution_count": 83,
   "metadata": {},
   "outputs": [],
   "source": [
    "# La bibliothèque NumPy fournit un support pour les tableaux et matrices multidimensionnels ainsi que des fonctions mathématiques pour les manipuler. \n",
    "import numpy as np\n",
    "\n",
    "# La bibliothèque Matplotlib fournit une gamme d'outils de tracé pour la visualisation des données. \n",
    "import matplotlib.pyplot as plt\n",
    "\n",
    "# Le module sklearn.linear_model fournit des outils pour la régression linéaire.\n",
    "from sklearn.linear_model import LinearRegression\n"
   ]
  },
  {
   "attachments": {},
   "cell_type": "markdown",
   "metadata": {},
   "source": [
    "# Insertion des donnees"
   ]
  },
  {
   "cell_type": "code",
   "execution_count": 64,
   "metadata": {},
   "outputs": [],
   "source": [
    "X = np.array([[6], [8], [10], [14], [18]])\n",
    "y = [7, 9, 13, 17.5, 18]\n"
   ]
  },
  {
   "attachments": {},
   "cell_type": "markdown",
   "metadata": {},
   "source": [
    "X est un tableau NumPy qui contient un vecteur de colonne avec 5 lignes et 1 colonne. Les valeurs de X sont [6, 8, 10, 14, 18]. C'est souvent utilisé pour représenter la variable indépendante dans un modèle de régression linéaire.<br/>\n",
    "\n",
    "y est une liste Python qui contient les valeurs correspondantes de la variable dépendante. Les valeurs de y sont [7, 9, 13, 17.5, 18]. Dans ce cas, y représente la variable cible que nous essayons de prédire en utilisant les valeurs de X."
   ]
  },
  {
   "cell_type": "code",
   "execution_count": 66,
   "metadata": {},
   "outputs": [
    {
     "data": {
      "image/png": "[encoded data removed]",
      "text/plain": [
       "<Figure size 432x288 with 1 Axes>"
      ]
     },
     "metadata": {
      "needs_background": "light"
     },
     "output_type": "display_data"
    }
   ],
   "source": [
    "plt.scatter(X,y)\n",
    "plt.title(' pizza prices against size')\n",
    "plt.xlabel('size in cms')\n",
    "plt.ylabel('price in euro')\n",
    "plt.grid()"
   ]
  },
  {
   "attachments": {},
   "cell_type": "markdown",
   "metadata": {},
   "source": [
    "Un nuage de points des données de X et y en utilisant la bibliothèque Matplotlib.<br/>\n",
    "\n",
    "plt.scatter(X, y) crée un nuage de points avec les valeurs de X sur l'axe des x et les valeurs de y sur l'axe des y.<br/>\n",
    "\n",
    "plt.title('prix de la pizza en fonction de la taille') définit le titre du graphique comme 'prix de la pizza en fonction de la taille'.<br/>\n",
    "\n",
    "plt.xlabel('taille en cms') définit l'étiquette pour l'axe des x comme 'taille en cms'.<br/>\n",
    "\n",
    "plt.ylabel('prix en euro') définit l'étiquette pour l'axe des y comme 'prix en euro'.<br/>\n",
    "\n",
    "plt.grid() ajoute une grille au graphique pour une meilleure lisibilité."
   ]
  },
  {
   "attachments": {},
   "cell_type": "markdown",
   "metadata": {},
   "source": [
    "# Regression lineaire"
   ]
  },
  {
   "cell_type": "code",
   "execution_count": 68,
   "metadata": {},
   "outputs": [],
   "source": [
    "reg = LinearRegression().fit(X,y)\n",
    "test_x = np.linspace(0, 25, 100).reshape(-1, 1)\n",
    "predicted_y = reg.predict(test_x)\n"
   ]
  },
  {
   "cell_type": "code",
   "execution_count": 69,
   "metadata": {},
   "outputs": [
    {
     "data": {
      "image/png": "[encoded data removed]",
      "text/plain": [
       "<Figure size 432x288 with 1 Axes>"
      ]
     },
     "metadata": {
      "needs_background": "light"
     },
     "output_type": "display_data"
    }
   ],
   "source": [
    "plt.scatter(X,y)\n",
    "plt.plot(test_x,predicted_y,color = 'red')\n",
    "plt.title(' pizza prices against size')\n",
    "plt.xlabel('size in cms')\n",
    "plt.ylabel('price in euro')\n",
    "plt.grid()"
   ]
  },
  {
   "attachments": {},
   "cell_type": "markdown",
   "metadata": {},
   "source": [
    "# Evaluation du modèle"
   ]
  },
  {
   "cell_type": "code",
   "execution_count": 70,
   "metadata": {},
   "outputs": [
    {
     "data": {
      "text/plain": [
       "8.747844827586203"
      ]
     },
     "execution_count": 70,
     "metadata": {},
     "output_type": "execute_result"
    }
   ],
   "source": [
    "RSS = 0 \n",
    "predicted_originals = reg.predict(X)\n",
    "for i in range(len(X)) : \n",
    "    RSS += (y[i]-predicted_originals[i])**2\n",
    "RSS"
   ]
  },
  {
   "attachments": {},
   "cell_type": "markdown",
   "metadata": {},
   "source": [
    "# Etude théorique de notre problème de pizza"
   ]
  },
  {
   "cell_type": "code",
   "execution_count": 71,
   "metadata": {},
   "outputs": [
    {
     "data": {
      "text/plain": [
       "23.2"
      ]
     },
     "execution_count": 71,
     "metadata": {},
     "output_type": "execute_result"
    }
   ],
   "source": [
    "var_x = 0\n",
    "moy_x = np.mean(X)\n",
    "n = len(X)\n",
    "for i in range(n) :\n",
    "    var_x += (X[i][0]- moy_x)**2\n",
    "var_x = var_x/(n-1)\n",
    "var_x\n"
   ]
  },
  {
   "cell_type": "code",
   "execution_count": 72,
   "metadata": {},
   "outputs": [
    {
     "data": {
      "text/plain": [
       "23.2"
      ]
     },
     "execution_count": 72,
     "metadata": {},
     "output_type": "execute_result"
    }
   ],
   "source": [
    "np.var(X, ddof=1)"
   ]
  },
  {
   "cell_type": "code",
   "execution_count": 73,
   "metadata": {},
   "outputs": [
    {
     "data": {
      "text/plain": [
       "22.65"
      ]
     },
     "execution_count": 73,
     "metadata": {},
     "output_type": "execute_result"
    }
   ],
   "source": [
    "cov_x_y = 0 \n",
    "moy_y = np.mean(y)\n",
    "for  i in range(n) :\n",
    "    cov_x_y += (X[i][0]-moy_x)*(y[i]-moy_y)\n",
    "cov_x_y = cov_x_y/(n-1)\n",
    "cov_x_y"
   ]
  },
  {
   "cell_type": "code",
   "execution_count": 74,
   "metadata": {},
   "outputs": [
    {
     "data": {
      "text/plain": [
       "22.650000000000002"
      ]
     },
     "execution_count": 74,
     "metadata": {},
     "output_type": "execute_result"
    }
   ],
   "source": [
    "np.cov(X.transpose(), y)[0][1]"
   ]
  },
  {
   "cell_type": "code",
   "execution_count": 75,
   "metadata": {},
   "outputs": [
    {
     "data": {
      "text/plain": [
       "0.9762931034482758"
      ]
     },
     "execution_count": 75,
     "metadata": {},
     "output_type": "execute_result"
    }
   ],
   "source": [
    "a = cov_x_y/var_x\n",
    "a"
   ]
  },
  {
   "cell_type": "code",
   "execution_count": 76,
   "metadata": {},
   "outputs": [
    {
     "data": {
      "text/plain": [
       "1.9655172413793114"
      ]
     },
     "execution_count": 76,
     "metadata": {},
     "output_type": "execute_result"
    }
   ],
   "source": [
    "b = moy_y - a*moy_x\n",
    "b"
   ]
  },
  {
   "cell_type": "code",
   "execution_count": 77,
   "metadata": {},
   "outputs": [],
   "source": [
    "X_test = np.array([[8], [9], [11], [16], [12]])\n",
    "y_test = [11, 8.5, 15, 18, 11]"
   ]
  },
  {
   "cell_type": "code",
   "execution_count": 78,
   "metadata": {},
   "outputs": [],
   "source": [
    "reg1 = LinearRegression().fit(X_test,y_test)"
   ]
  },
  {
   "cell_type": "code",
   "execution_count": 79,
   "metadata": {},
   "outputs": [
    {
     "data": {
      "text/plain": [
       "56.8"
      ]
     },
     "execution_count": 79,
     "metadata": {},
     "output_type": "execute_result"
    }
   ],
   "source": [
    "SS_tot = 0 \n",
    "moy_test = np.mean(y_test)\n",
    "for i in range( len(y_test)) :\n",
    "    SS_tot += (y_test[i]-moy_test)**2\n",
    "SS_tot"
   ]
  },
  {
   "cell_type": "code",
   "execution_count": 80,
   "metadata": {},
   "outputs": [
    {
     "data": {
      "text/plain": [
       "18.993556701030926"
      ]
     },
     "execution_count": 80,
     "metadata": {},
     "output_type": "execute_result"
    }
   ],
   "source": [
    "RSS_test = 0 \n",
    "predicted_originals_test = reg1.predict(X_test)\n",
    "for i in range(len(X_test)) : \n",
    "    RSS_test += (y_test[i]-predicted_originals_test[i])**2\n",
    "RSS_test"
   ]
  },
  {
   "cell_type": "code",
   "execution_count": 82,
   "metadata": {},
   "outputs": [
    {
     "data": {
      "text/plain": [
       "0.6656063961086105"
      ]
     },
     "execution_count": 82,
     "metadata": {},
     "output_type": "execute_result"
    }
   ],
   "source": [
    "R_squared = 1 - RSS_test/SS_tot\n",
    "R_squared"
   ]
  },
  {
   "attachments": {},
   "cell_type": "markdown",
   "metadata": {},
   "source": [
    "# Résumé\n",
    "Dans ce sujet nous avons vu comment faire une régression linéaire en python à l’aide\n",
    "de la librairie sklearn sur un problème élémentaire.\n"
   ]
  }
 ],
 "metadata": {
  "kernelspec": {
   "display_name": "Python 3",
   "language": "python",
   "name": "python3"
  },
  "language_info": {
   "codemirror_mode": {
    "name": "ipython",
    "version": 3
   },
   "file_extension": ".py",
   "mimetype": "text/x-python",
   "name": "python",
   "nbconvert_exporter": "python",
   "pygments_lexer": "ipython3",
   "version": "3.10.0"
  },
  "orig_nbformat": 4
 },
 "nbformat": 4,
 "nbformat_minor": 2
}
